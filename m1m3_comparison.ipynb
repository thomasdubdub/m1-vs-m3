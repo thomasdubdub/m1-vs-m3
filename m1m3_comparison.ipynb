{
 "cells": [
  {
   "cell_type": "markdown",
   "metadata": {},
   "source": [
    "# Visualizing m1 versus m3 traffic data with CesiumJS"
   ]
  },
  {
   "cell_type": "code",
   "execution_count": 1,
   "metadata": {},
   "outputs": [],
   "source": [
    "import pandas as pd\n",
    "import glob\n",
    "from CZML_builder import czml"
   ]
  },
  {
   "cell_type": "markdown",
   "metadata": {},
   "source": [
    "#### <br> so6 file parser"
   ]
  },
  {
   "cell_type": "code",
   "execution_count": 2,
   "metadata": {},
   "outputs": [],
   "source": [
    "def df(path):\n",
    "    columns = ['segment_identifier', 'flight_origin', 'flight_destination', 'aircraft_type', \n",
    "           'time_begin', 'time_end', 'fl_begin', 'fl_end', 'status', 'callsign', \n",
    "           'date_begin', 'date_end', 'lat_begin', 'lon_begin', 'lat_end', 'lon_end',\n",
    "           'flight_identifier', 'sequence', 'length', 'parity']\n",
    "    parser = lambda x,y: pd.datetime.strptime(x + y, '%y%m%d%H%M%S')\n",
    "\n",
    "    df = pd.read_csv(path, sep=' ', header=None, names=columns, \n",
    "                     parse_dates={'datetime_begin': ['date_begin','time_begin'], \n",
    "                              'datetime_end': ['date_end','time_end']}, date_parser=parser,\n",
    "                    dtype={'aircraft_type': str})\n",
    "    df.query('length > 0', inplace=True) # filter null segments\n",
    "    df['duration'] = (df['datetime_end'] - df['datetime_begin']).dt.total_seconds()\n",
    "    df['alt_begin (m)'] = df['fl_begin'].apply(lambda x: x * 30.48) # FL to meters\n",
    "    lat_lon_cols = ['lat_begin','lon_begin','lat_end','lon_end']\n",
    "    df[lat_lon_cols] = df[lat_lon_cols].apply(lambda x: x / 60)\n",
    "    return df"
   ]
  },
  {
   "cell_type": "markdown",
   "metadata": {},
   "source": [
    "#### <br> Parse separately m1 and m3 so6 files"
   ]
  },
  {
   "cell_type": "code",
   "execution_count": null,
   "metadata": {},
   "outputs": [],
   "source": [
    "df1 = df('your_m1_file.so6')\n",
    "df3 = df('your_m3_file.so6')"
   ]
  },
  {
   "cell_type": "markdown",
   "metadata": {},
   "source": [
    "#### <br> Apply some filters if needed"
   ]
  },
  {
   "cell_type": "code",
   "execution_count": 6,
   "metadata": {},
   "outputs": [],
   "source": [
    "df1 = df1.query('aircraft_type==\"A388\" and flight_origin==\"LFPG\"')\n",
    "df3 = df3.query('aircraft_type==\"A388\" and flight_origin==\"LFPG\"')"
   ]
  },
  {
   "cell_type": "markdown",
   "metadata": {},
   "source": [
    "#### <br> Create one CZML file with both m1 and m3 tracks/trajectories"
   ]
  },
  {
   "cell_type": "code",
   "execution_count": 7,
   "metadata": {},
   "outputs": [],
   "source": [
    "czml([df1, df3], \"m1vsm3.czml\", path=True, point=True)"
   ]
  }
 ],
 "metadata": {
  "kernelspec": {
   "display_name": "Python [default]",
   "language": "python",
   "name": "python3"
  },
  "language_info": {
   "codemirror_mode": {
    "name": "ipython",
    "version": 3
   },
   "file_extension": ".py",
   "mimetype": "text/x-python",
   "name": "python",
   "nbconvert_exporter": "python",
   "pygments_lexer": "ipython3",
   "version": "3.6.6"
  }
 },
 "nbformat": 4,
 "nbformat_minor": 2
}
